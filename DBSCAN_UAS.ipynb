{
 "cells": [
  {
   "cell_type": "markdown",
   "id": "aea691db",
   "metadata": {},
   "source": [
    "## <div align=\"center\" style=\"font-style:italic\"> Deteksi Anomali Pupuk Tanah menggunakan Density-Based Spatial Clustering of Applications with Noise </div>\n",
    " <h2>Anggota :</h2>\n",
    " <ol>\n",
    "    <li>Farrel Dinarta / 00000055702</li>\n",
    "    <li>Prudence Tendy / 00000060765</li>\n",
    "    <li>Christsen Alston Angello / 00000053444</li>\n",
    " </ol>"
   ]
  },
  {
   "cell_type": "markdown",
   "id": "9bf1d879",
   "metadata": {},
   "source": [
    "## Sumber Dataset :\n",
    "1. https://www.kaggle.com/datasets/gdabhishek/fertilizer-prediction\n",
    "2. https://www.kaggle.com/datasets/srprojects/fertilizer-prediction\n",
    "3. https://www.kaggle.com/datasets/sanamps/crop-prediction"
   ]
  },
  {
   "cell_type": "markdown",
   "id": "31e09a74",
   "metadata": {},
   "source": [
    "### Import Libraries"
   ]
  },
  {
   "cell_type": "code",
   "execution_count": 168,
   "id": "3cb48b58",
   "metadata": {},
   "outputs": [],
   "source": [
    "import numpy as np\n",
    "import pandas as pd\n",
    "import matplotlib.pyplot as plt\n",
    "\n",
    "from sklearn.metrics import mean_squared_error\n",
    "from sklearn.preprocessing import StandardScaler\n",
    "from sklearn.preprocessing import MinMaxScaler\n",
    "from sklearn.preprocessing import normalize\n",
    "from sklearn.ensemble import RandomForestClassifier\n",
    "from sklearn.ensemble import RandomForestRegressor\n",
    "from sklearn.multioutput import MultiOutputRegressor\n",
    "from sklearn.neighbors import NearestNeighbors\n",
    "from sklearn.metrics import silhouette_score, accuracy_score\n",
    "from sklearn.decomposition import PCA\n",
    "\n",
    "\n",
    "from sklearn.model_selection import train_test_split\n",
    "from sklearn.linear_model import LinearRegression, LogisticRegression\n",
    "\n",
    "%matplotlib inline"
   ]
  },
  {
   "cell_type": "markdown",
   "id": "be5aa23d",
   "metadata": {},
   "source": [
    "### Import Datasets"
   ]
  },
  {
   "cell_type": "code",
   "execution_count": 169,
   "id": "29d005ee",
   "metadata": {},
   "outputs": [
    {
     "name": "stdout",
     "output_type": "stream",
     "text": [
      "<class 'pandas.core.frame.DataFrame'>\n",
      "RangeIndex: 99 entries, 0 to 98\n",
      "Data columns (total 9 columns):\n",
      " #   Column           Non-Null Count  Dtype \n",
      "---  ------           --------------  ----- \n",
      " 0   Temparature      99 non-null     int64 \n",
      " 1   Humidity         99 non-null     int64 \n",
      " 2   Moisture         99 non-null     int64 \n",
      " 3   Soil Type        99 non-null     object\n",
      " 4   Crop Type        99 non-null     object\n",
      " 5   Nitrogen         99 non-null     int64 \n",
      " 6   Potassium        99 non-null     int64 \n",
      " 7   Phosphorous      99 non-null     int64 \n",
      " 8   Fertilizer Name  99 non-null     object\n",
      "dtypes: int64(6), object(3)\n",
      "memory usage: 7.1+ KB\n",
      "None\n",
      "   Temparature  Humidity  Moisture Soil Type  Crop Type  Nitrogen  Potassium  \\\n",
      "0           26        52        38     Sandy      Maize        37          0   \n",
      "1           29        52        45     Loamy  Sugarcane        12          0   \n",
      "2           34        65        62     Black     Cotton         7          9   \n",
      "3           32        62        34       Red    Tobacco        22          0   \n",
      "4           28        54        46    Clayey      Paddy        35          0   \n",
      "\n",
      "   Phosphorous Fertilizer Name  \n",
      "0            0            Urea  \n",
      "1           36             DAP  \n",
      "2           30        14-35-14  \n",
      "3           20           28-28  \n",
      "4            0            Urea  \n"
     ]
    }
   ],
   "source": [
    "# https://www.kaggle.com/datasets/gdabhishek/fertilizer-prediction\n",
    "dataset_1 = pd.read_csv(\"Fertilizer Prediction.csv\")\n",
    "print(dataset_1.info())\n",
    "print(dataset_1.head())\n",
    "\n",
    "# print(type(dataset_1.iloc[0][\"Temparature\"]))\n",
    "# for _, j in dataset_1.iterrows():"
   ]
  },
  {
   "cell_type": "code",
   "execution_count": 170,
   "id": "31f89ca7",
   "metadata": {},
   "outputs": [
    {
     "name": "stdout",
     "output_type": "stream",
     "text": [
      "<class 'pandas.core.frame.DataFrame'>\n",
      "RangeIndex: 200 entries, 0 to 199\n",
      "Data columns (total 10 columns):\n",
      " #   Column       Non-Null Count  Dtype  \n",
      "---  ------       --------------  -----  \n",
      " 0   Temperature  200 non-null    float64\n",
      " 1   Humidity     200 non-null    float64\n",
      " 2   Rainfall     200 non-null    float64\n",
      " 3   pH           200 non-null    float64\n",
      " 4   N            200 non-null    float64\n",
      " 5   P            200 non-null    float64\n",
      " 6   K            200 non-null    float64\n",
      " 7   Soil         200 non-null    object \n",
      " 8   Crop         200 non-null    object \n",
      " 9   Fertilizer   200 non-null    object \n",
      "dtypes: float64(7), object(3)\n",
      "memory usage: 15.8+ KB\n",
      "None\n",
      "   Temperature  Humidity  Rainfall    pH    N    P    K        Soil     Crop  \\\n",
      "0        24.87     82.84    295.61  6.59  4.0  2.0  2.5      Clayey     rice   \n",
      "1        28.69     96.65    178.96  6.08  4.0  4.0  4.0    laterite  Coconut   \n",
      "2        20.27     81.64    270.44  5.01  4.0  4.0  2.0  silty clay     rice   \n",
      "3        25.07     95.02    192.90  5.55  2.0  2.1  3.5       sandy  Coconut   \n",
      "4        25.04     95.90    174.80  6.18  2.0  3.9  2.1     coastal  Coconut   \n",
      "\n",
      "     Fertilizer  \n",
      "0   DAP and MOP  \n",
      "1      Good NPK  \n",
      "2           MOP  \n",
      "3  Urea and DAP  \n",
      "4  Urea and MOP  \n"
     ]
    }
   ],
   "source": [
    "# https://www.kaggle.com/datasets/srprojects/fertilizer-prediction\n",
    "dataset_2 = pd.read_csv(\"Fertilizer Prediction 2.csv\")\n",
    "print(dataset_2.info())\n",
    "print(dataset_2.head())"
   ]
  },
  {
   "cell_type": "code",
   "execution_count": 171,
   "id": "472f298f",
   "metadata": {},
   "outputs": [
    {
     "name": "stdout",
     "output_type": "stream",
     "text": [
      "<class 'pandas.core.frame.DataFrame'>\n",
      "RangeIndex: 2200 entries, 0 to 2199\n",
      "Data columns (total 8 columns):\n",
      " #   Column       Non-Null Count  Dtype  \n",
      "---  ------       --------------  -----  \n",
      " 0   N            2200 non-null   int64  \n",
      " 1   P            2200 non-null   int64  \n",
      " 2   K            2200 non-null   int64  \n",
      " 3   temperature  2200 non-null   float64\n",
      " 4   humidity     2200 non-null   float64\n",
      " 5   ph           2200 non-null   float64\n",
      " 6   rainfall     2200 non-null   float64\n",
      " 7   label        2200 non-null   object \n",
      "dtypes: float64(4), int64(3), object(1)\n",
      "memory usage: 137.6+ KB\n",
      "None\n",
      "    N   P   K  temperature   humidity        ph    rainfall label\n",
      "0  90  42  43    20.879744  82.002744  6.502985  202.935536  rice\n",
      "1  85  58  41    21.770462  80.319644  7.038096  226.655537  rice\n",
      "2  60  55  44    23.004459  82.320763  7.840207  263.964248  rice\n",
      "3  74  35  40    26.491096  80.158363  6.980401  242.864034  rice\n",
      "4  78  42  42    20.130175  81.604873  7.628473  262.717340  rice\n"
     ]
    }
   ],
   "source": [
    "# https://www.kaggle.com/datasets/sanamps/crop-prediction\n",
    "dataset_3 = pd.read_csv(\"Fertilizer Prediction 3.csv\")\n",
    "print(dataset_3.info())\n",
    "print(dataset_3.head())"
   ]
  },
  {
   "cell_type": "markdown",
   "id": "21f072e1",
   "metadata": {},
   "source": [
    "=========================================================================================================\n",
    "### DATA PREPROCESSING OVERVIEW\n",
    " <h3>Feature Selection</h3>\n",
    " <ol>\n",
    "    <li>Nitrogen (ppm)</li>\n",
    "    <li>Potassium (ppm)</li>\n",
    "    <li>Phosphorous (ppm)</li>\n",
    "    <li>Humidity (%)</li>\n",
    "    <li>Temperature (Celsius)</li>\n",
    "    <li>Moisture (%)</li>    \n",
    "    <li>Rainfall (mm)</li>\n",
    "    <li>pH (0-14)</li>\n",
    "    <li>Name</li>\n",
    " </ol>\n",
    " \n",
    "<h3>Data Cleaning</h3>\n",
    "<ol>\n",
    "    <li>Features with incomplete values : </li>\n",
    "    <table border=\"1\" style=\"width:70%\">\n",
    "        <tr>\n",
    "            <th></th>\n",
    "            <th>Rainfall</th>\n",
    "            <th>Moisture</th>\n",
    "            <th>pH</th>\n",
    "            <th>Name</th>\n",
    "        </tr>\n",
    "        <tr>\n",
    "            <td><b>Dataset 1</b></td>\n",
    "            <td>Doesn't Exist</td>\n",
    "            <td>Exists</td>\n",
    "            <td>Doesn't Exist</td>            \n",
    "            <td>Exists</td>            \n",
    "        </tr>\n",
    "        <tr>\n",
    "            <td><b>Dataset 2</b></td>\n",
    "            <td>Exists</td>\n",
    "            <td>Doesn't Exists</td>\n",
    "            <td>Exists</td>\n",
    "            <td>Exists</td>            \n",
    "        </tr>\n",
    "        <tr>\n",
    "            <td><b>Dataset 3</b></td>\n",
    "            <td>Exists</td>\n",
    "            <td>Doesn't Exists</td>\n",
    "            <td>Exists</td>        \n",
    "            <td>Doesn't Exists</td>            \n",
    "        </tr>\n",
    "    </table>\n",
    "    <li>Since we are merging three datasets and incompleteness on the crucial features seems to be unavoidable, we will predict them using supervised model (Linear Regression)\n",
    "</ol>\n",
    " \n",
    "<h3>Data Integration</h3>\n",
    "<ol>\n",
    "    <li>Integrate the given selected features.</li>\n",
    "    <li>Remove unneccessary or uncommon features.</li>\n",
    "    <li>Removed features :</li>\n",
    "    <ol>\n",
    "        <li>Crop Type</li>\n",
    "        <li>Soil Type</li>\n",
    "    </ol>\n",
    "</ol>\n",
    "\n",
    "<h3>Feature Scaling</h3>\n",
    " <ol>\n",
    "    <li>The datasets will be normalized since various units and scale are used.</li>\n",
    " </ol>\n",
    " \n",
    " <h3>Merge Datasets</h3>\n",
    " <ol>\n",
    "    <li>Each preprocessed dataset with synchronized features are merged into one dataset for the DBSCAN modeling.</li>\n",
    " </ol>\n",
    " \n",
    "  <h3>Data Segmentation</h3>\n",
    " <ol>\n",
    "    <li>The dataset will be split again according to fertilizer type.</li>\n",
    " </ol>"
   ]
  },
  {
   "cell_type": "markdown",
   "id": "edf068d4",
   "metadata": {},
   "source": [
    "========================================================================================================="
   ]
  },
  {
   "cell_type": "markdown",
   "id": "8f7f3d64",
   "metadata": {},
   "source": [
    "### PREPROCESSING : FEATURE SELECTION"
   ]
  },
  {
   "cell_type": "code",
   "execution_count": 172,
   "id": "123516cf",
   "metadata": {},
   "outputs": [],
   "source": [
    "# Synchronize column names\n",
    "used_features = ['temperature', 'humidity', 'nitrogen', 'potassium', 'phosphorous', 'ph', 'rainfall', 'moisture', 'name']"
   ]
  },
  {
   "cell_type": "markdown",
   "id": "93df816d",
   "metadata": {},
   "source": [
    "### Dataset 1"
   ]
  },
  {
   "cell_type": "code",
   "execution_count": 173,
   "id": "25ea0e30",
   "metadata": {},
   "outputs": [
    {
     "data": {
      "text/html": [
       "<div>\n",
       "<style scoped>\n",
       "    .dataframe tbody tr th:only-of-type {\n",
       "        vertical-align: middle;\n",
       "    }\n",
       "\n",
       "    .dataframe tbody tr th {\n",
       "        vertical-align: top;\n",
       "    }\n",
       "\n",
       "    .dataframe thead th {\n",
       "        text-align: right;\n",
       "    }\n",
       "</style>\n",
       "<table border=\"1\" class=\"dataframe\">\n",
       "  <thead>\n",
       "    <tr style=\"text-align: right;\">\n",
       "      <th></th>\n",
       "      <th>temperature</th>\n",
       "      <th>humidity</th>\n",
       "      <th>nitrogen</th>\n",
       "      <th>potassium</th>\n",
       "      <th>phosphorous</th>\n",
       "      <th>name</th>\n",
       "      <th>moisture</th>\n",
       "      <th>ph</th>\n",
       "      <th>rainfall</th>\n",
       "    </tr>\n",
       "  </thead>\n",
       "  <tbody>\n",
       "    <tr>\n",
       "      <th>0</th>\n",
       "      <td>26</td>\n",
       "      <td>52</td>\n",
       "      <td>37</td>\n",
       "      <td>0</td>\n",
       "      <td>0</td>\n",
       "      <td>Urea</td>\n",
       "      <td>38</td>\n",
       "      <td>NaN</td>\n",
       "      <td>NaN</td>\n",
       "    </tr>\n",
       "    <tr>\n",
       "      <th>1</th>\n",
       "      <td>29</td>\n",
       "      <td>52</td>\n",
       "      <td>12</td>\n",
       "      <td>0</td>\n",
       "      <td>36</td>\n",
       "      <td>DAP</td>\n",
       "      <td>45</td>\n",
       "      <td>NaN</td>\n",
       "      <td>NaN</td>\n",
       "    </tr>\n",
       "    <tr>\n",
       "      <th>2</th>\n",
       "      <td>34</td>\n",
       "      <td>65</td>\n",
       "      <td>7</td>\n",
       "      <td>9</td>\n",
       "      <td>30</td>\n",
       "      <td>14-35-14</td>\n",
       "      <td>62</td>\n",
       "      <td>NaN</td>\n",
       "      <td>NaN</td>\n",
       "    </tr>\n",
       "    <tr>\n",
       "      <th>3</th>\n",
       "      <td>32</td>\n",
       "      <td>62</td>\n",
       "      <td>22</td>\n",
       "      <td>0</td>\n",
       "      <td>20</td>\n",
       "      <td>28-28</td>\n",
       "      <td>34</td>\n",
       "      <td>NaN</td>\n",
       "      <td>NaN</td>\n",
       "    </tr>\n",
       "    <tr>\n",
       "      <th>4</th>\n",
       "      <td>28</td>\n",
       "      <td>54</td>\n",
       "      <td>35</td>\n",
       "      <td>0</td>\n",
       "      <td>0</td>\n",
       "      <td>Urea</td>\n",
       "      <td>46</td>\n",
       "      <td>NaN</td>\n",
       "      <td>NaN</td>\n",
       "    </tr>\n",
       "  </tbody>\n",
       "</table>\n",
       "</div>"
      ],
      "text/plain": [
       "   temperature  humidity  nitrogen  potassium  phosphorous      name  \\\n",
       "0           26        52        37          0            0      Urea   \n",
       "1           29        52        12          0           36       DAP   \n",
       "2           34        65         7          9           30  14-35-14   \n",
       "3           32        62        22          0           20     28-28   \n",
       "4           28        54        35          0            0      Urea   \n",
       "\n",
       "   moisture   ph rainfall  \n",
       "0        38  NaN      NaN  \n",
       "1        45  NaN      NaN  \n",
       "2        62  NaN      NaN  \n",
       "3        34  NaN      NaN  \n",
       "4        46  NaN      NaN  "
      ]
     },
     "execution_count": 173,
     "metadata": {},
     "output_type": "execute_result"
    }
   ],
   "source": [
    "# rename existing columns\n",
    "dataset_1 = dataset_1.rename(\n",
    "    columns = {\n",
    "        'Temparature' : used_features[0], \n",
    "        'Humidity' : used_features[1], \n",
    "        'Nitrogen' : used_features[2], \n",
    "        'Potassium' : used_features[3],\n",
    "        'Phosphorous' : used_features[4], \n",
    "        'Moisture' : used_features[7], \n",
    "        'Fertilizer Name' : used_features[8]\n",
    "    }\n",
    ")\n",
    "\n",
    "dataset_1 = dataset_1[used_features[:5] + [used_features[-1], used_features[-2]]]\n",
    "X_d1 = dataset_1 # for supervised prediction model\n",
    "\n",
    "# add inexistent columns\n",
    "new_feature_dataset_1 = pd.DataFrame(columns=used_features[5:7])\n",
    "dataset_1 = pd.concat([dataset_1, new_feature_dataset_1], axis=1)\n",
    "dataset_1.head()"
   ]
  },
  {
   "cell_type": "markdown",
   "id": "b39594cf",
   "metadata": {},
   "source": [
    "### Dataset 2"
   ]
  },
  {
   "cell_type": "code",
   "execution_count": 174,
   "id": "3115c711",
   "metadata": {},
   "outputs": [
    {
     "data": {
      "text/html": [
       "<div>\n",
       "<style scoped>\n",
       "    .dataframe tbody tr th:only-of-type {\n",
       "        vertical-align: middle;\n",
       "    }\n",
       "\n",
       "    .dataframe tbody tr th {\n",
       "        vertical-align: top;\n",
       "    }\n",
       "\n",
       "    .dataframe thead th {\n",
       "        text-align: right;\n",
       "    }\n",
       "</style>\n",
       "<table border=\"1\" class=\"dataframe\">\n",
       "  <thead>\n",
       "    <tr style=\"text-align: right;\">\n",
       "      <th></th>\n",
       "      <th>temperature</th>\n",
       "      <th>humidity</th>\n",
       "      <th>nitrogen</th>\n",
       "      <th>potassium</th>\n",
       "      <th>phosphorous</th>\n",
       "      <th>ph</th>\n",
       "      <th>rainfall</th>\n",
       "      <th>name</th>\n",
       "      <th>moisture</th>\n",
       "    </tr>\n",
       "  </thead>\n",
       "  <tbody>\n",
       "    <tr>\n",
       "      <th>0</th>\n",
       "      <td>24.87</td>\n",
       "      <td>82.84</td>\n",
       "      <td>4.0</td>\n",
       "      <td>2.5</td>\n",
       "      <td>2.0</td>\n",
       "      <td>6.59</td>\n",
       "      <td>295.61</td>\n",
       "      <td>DAP and MOP</td>\n",
       "      <td>NaN</td>\n",
       "    </tr>\n",
       "    <tr>\n",
       "      <th>1</th>\n",
       "      <td>28.69</td>\n",
       "      <td>96.65</td>\n",
       "      <td>4.0</td>\n",
       "      <td>4.0</td>\n",
       "      <td>4.0</td>\n",
       "      <td>6.08</td>\n",
       "      <td>178.96</td>\n",
       "      <td>Good NPK</td>\n",
       "      <td>NaN</td>\n",
       "    </tr>\n",
       "    <tr>\n",
       "      <th>2</th>\n",
       "      <td>20.27</td>\n",
       "      <td>81.64</td>\n",
       "      <td>4.0</td>\n",
       "      <td>2.0</td>\n",
       "      <td>4.0</td>\n",
       "      <td>5.01</td>\n",
       "      <td>270.44</td>\n",
       "      <td>MOP</td>\n",
       "      <td>NaN</td>\n",
       "    </tr>\n",
       "    <tr>\n",
       "      <th>3</th>\n",
       "      <td>25.07</td>\n",
       "      <td>95.02</td>\n",
       "      <td>2.0</td>\n",
       "      <td>3.5</td>\n",
       "      <td>2.1</td>\n",
       "      <td>5.55</td>\n",
       "      <td>192.90</td>\n",
       "      <td>Urea and DAP</td>\n",
       "      <td>NaN</td>\n",
       "    </tr>\n",
       "    <tr>\n",
       "      <th>4</th>\n",
       "      <td>25.04</td>\n",
       "      <td>95.90</td>\n",
       "      <td>2.0</td>\n",
       "      <td>2.1</td>\n",
       "      <td>3.9</td>\n",
       "      <td>6.18</td>\n",
       "      <td>174.80</td>\n",
       "      <td>Urea and MOP</td>\n",
       "      <td>NaN</td>\n",
       "    </tr>\n",
       "  </tbody>\n",
       "</table>\n",
       "</div>"
      ],
      "text/plain": [
       "   temperature  humidity  nitrogen  potassium  phosphorous    ph  rainfall  \\\n",
       "0        24.87     82.84       4.0        2.5          2.0  6.59    295.61   \n",
       "1        28.69     96.65       4.0        4.0          4.0  6.08    178.96   \n",
       "2        20.27     81.64       4.0        2.0          4.0  5.01    270.44   \n",
       "3        25.07     95.02       2.0        3.5          2.1  5.55    192.90   \n",
       "4        25.04     95.90       2.0        2.1          3.9  6.18    174.80   \n",
       "\n",
       "           name moisture  \n",
       "0   DAP and MOP      NaN  \n",
       "1      Good NPK      NaN  \n",
       "2           MOP      NaN  \n",
       "3  Urea and DAP      NaN  \n",
       "4  Urea and MOP      NaN  "
      ]
     },
     "execution_count": 174,
     "metadata": {},
     "output_type": "execute_result"
    }
   ],
   "source": [
    "# rename existing columns\n",
    "dataset_2 = dataset_2.rename(\n",
    "    columns = {\n",
    "        'Temperature' : used_features[0], \n",
    "        'Humidity' : used_features[1], \n",
    "        'N' : used_features[2], \n",
    "        'K' : used_features[3],\n",
    "        'P' : used_features[4],\n",
    "        'Rainfall' : used_features[6], \n",
    "        'pH' : used_features[5], \n",
    "        'Fertilizer' : used_features[8]\n",
    "    }\n",
    ")\n",
    "\n",
    "dataset_2 = dataset_2[used_features[:7] + [used_features[-1]]]\n",
    "X_d2 = dataset_2 # for supervised prediction model\n",
    "\n",
    "# add inexistent columns\n",
    "new_feature_dataset_2 = pd.DataFrame(columns=[used_features[7]])\n",
    "dataset_2 = pd.concat([dataset_2, new_feature_dataset_2], axis=1)\n",
    "dataset_2.head()"
   ]
  },
  {
   "cell_type": "markdown",
   "id": "062739b4",
   "metadata": {},
   "source": [
    "### Dataset 3"
   ]
  },
  {
   "cell_type": "code",
   "execution_count": 175,
   "id": "4737ebc3",
   "metadata": {},
   "outputs": [
    {
     "data": {
      "text/html": [
       "<div>\n",
       "<style scoped>\n",
       "    .dataframe tbody tr th:only-of-type {\n",
       "        vertical-align: middle;\n",
       "    }\n",
       "\n",
       "    .dataframe tbody tr th {\n",
       "        vertical-align: top;\n",
       "    }\n",
       "\n",
       "    .dataframe thead th {\n",
       "        text-align: right;\n",
       "    }\n",
       "</style>\n",
       "<table border=\"1\" class=\"dataframe\">\n",
       "  <thead>\n",
       "    <tr style=\"text-align: right;\">\n",
       "      <th></th>\n",
       "      <th>temperature</th>\n",
       "      <th>humidity</th>\n",
       "      <th>nitrogen</th>\n",
       "      <th>potassium</th>\n",
       "      <th>phosphorous</th>\n",
       "      <th>ph</th>\n",
       "      <th>rainfall</th>\n",
       "      <th>moisture</th>\n",
       "      <th>name</th>\n",
       "    </tr>\n",
       "  </thead>\n",
       "  <tbody>\n",
       "    <tr>\n",
       "      <th>0</th>\n",
       "      <td>20.879744</td>\n",
       "      <td>82.002744</td>\n",
       "      <td>90</td>\n",
       "      <td>43</td>\n",
       "      <td>42</td>\n",
       "      <td>6.502985</td>\n",
       "      <td>202.935536</td>\n",
       "      <td>NaN</td>\n",
       "      <td>NaN</td>\n",
       "    </tr>\n",
       "    <tr>\n",
       "      <th>1</th>\n",
       "      <td>21.770462</td>\n",
       "      <td>80.319644</td>\n",
       "      <td>85</td>\n",
       "      <td>41</td>\n",
       "      <td>58</td>\n",
       "      <td>7.038096</td>\n",
       "      <td>226.655537</td>\n",
       "      <td>NaN</td>\n",
       "      <td>NaN</td>\n",
       "    </tr>\n",
       "    <tr>\n",
       "      <th>2</th>\n",
       "      <td>23.004459</td>\n",
       "      <td>82.320763</td>\n",
       "      <td>60</td>\n",
       "      <td>44</td>\n",
       "      <td>55</td>\n",
       "      <td>7.840207</td>\n",
       "      <td>263.964248</td>\n",
       "      <td>NaN</td>\n",
       "      <td>NaN</td>\n",
       "    </tr>\n",
       "    <tr>\n",
       "      <th>3</th>\n",
       "      <td>26.491096</td>\n",
       "      <td>80.158363</td>\n",
       "      <td>74</td>\n",
       "      <td>40</td>\n",
       "      <td>35</td>\n",
       "      <td>6.980401</td>\n",
       "      <td>242.864034</td>\n",
       "      <td>NaN</td>\n",
       "      <td>NaN</td>\n",
       "    </tr>\n",
       "    <tr>\n",
       "      <th>4</th>\n",
       "      <td>20.130175</td>\n",
       "      <td>81.604873</td>\n",
       "      <td>78</td>\n",
       "      <td>42</td>\n",
       "      <td>42</td>\n",
       "      <td>7.628473</td>\n",
       "      <td>262.717340</td>\n",
       "      <td>NaN</td>\n",
       "      <td>NaN</td>\n",
       "    </tr>\n",
       "  </tbody>\n",
       "</table>\n",
       "</div>"
      ],
      "text/plain": [
       "   temperature   humidity  nitrogen  potassium  phosphorous        ph  \\\n",
       "0    20.879744  82.002744        90         43           42  6.502985   \n",
       "1    21.770462  80.319644        85         41           58  7.038096   \n",
       "2    23.004459  82.320763        60         44           55  7.840207   \n",
       "3    26.491096  80.158363        74         40           35  6.980401   \n",
       "4    20.130175  81.604873        78         42           42  7.628473   \n",
       "\n",
       "     rainfall moisture name  \n",
       "0  202.935536      NaN  NaN  \n",
       "1  226.655537      NaN  NaN  \n",
       "2  263.964248      NaN  NaN  \n",
       "3  242.864034      NaN  NaN  \n",
       "4  262.717340      NaN  NaN  "
      ]
     },
     "execution_count": 175,
     "metadata": {},
     "output_type": "execute_result"
    }
   ],
   "source": [
    "# rename existing columns\n",
    "dataset_3 = dataset_3.rename(\n",
    "    columns = {\n",
    "        'temperature' : used_features[0], \n",
    "        'humidity' : used_features[1], \n",
    "        'N' : used_features[2], \n",
    "        'K' : used_features[3],\n",
    "        'P' : used_features[4],\n",
    "        'rainfall' : used_features[6], \n",
    "        'ph' : used_features[5]        \n",
    "    }\n",
    ")\n",
    "\n",
    "dataset_3 = dataset_3[used_features[:7]]\n",
    "X_d3 = dataset_3 # for supervised prediction model\n",
    "\n",
    "# add inexistent columns\n",
    "new_feature_dataset_3 = pd.DataFrame(columns=used_features[-2:])\n",
    "dataset_3 = pd.concat([dataset_3, new_feature_dataset_3], axis=1)\n",
    "dataset_3.head()"
   ]
  },
  {
   "cell_type": "markdown",
   "id": "974a2109",
   "metadata": {},
   "source": [
    "### PREPROCESSING : HANDLE FERTILIZER NAME (CATEGORICAL)"
   ]
  },
  {
   "cell_type": "markdown",
   "id": "9c055c30",
   "metadata": {},
   "source": [
    "- Get all unique fertilizer name"
   ]
  },
  {
   "cell_type": "code",
   "execution_count": 176,
   "id": "9380fe29",
   "metadata": {},
   "outputs": [
    {
     "data": {
      "text/plain": [
       "array(['10-26-26', '14-35-14', '17-17-17', '20-20', '28-28', 'DAP',\n",
       "       'DAP and MOP', 'Good NPK', 'MOP', 'Urea', 'Urea and DAP',\n",
       "       'Urea and MOP'], dtype=object)"
      ]
     },
     "execution_count": 176,
     "metadata": {},
     "output_type": "execute_result"
    }
   ],
   "source": [
    "fertilizer_name_d1 = np.unique(np.array(dataset_1['name']))\n",
    "fertilizer_name_d2 = np.unique(np.array(dataset_2['name']))\n",
    "unique_names = np.unique(np.concatenate((fertilizer_name_d1, fertilizer_name_d2)))\n",
    "unique_names"
   ]
  },
  {
   "cell_type": "markdown",
   "id": "a8e46225",
   "metadata": {},
   "source": [
    "- Map fertilizer name into integer"
   ]
  },
  {
   "cell_type": "code",
   "execution_count": 177,
   "id": "082ebf2c",
   "metadata": {},
   "outputs": [
    {
     "data": {
      "text/plain": [
       "{'10-26-26': 0,\n",
       " '14-35-14': 1,\n",
       " '17-17-17': 2,\n",
       " '20-20': 3,\n",
       " '28-28': 4,\n",
       " 'DAP': 5,\n",
       " 'DAP and MOP': 6,\n",
       " 'Good NPK': 7,\n",
       " 'MOP': 8,\n",
       " 'Urea': 9,\n",
       " 'Urea and DAP': 10,\n",
       " 'Urea and MOP': 11}"
      ]
     },
     "execution_count": 177,
     "metadata": {},
     "output_type": "execute_result"
    }
   ],
   "source": [
    "name_int_mapping = {name: idx for idx, name in enumerate(unique_names)}\n",
    "\n",
    "dataset_1['name'] = dataset_1['name'].map(name_int_mapping)\n",
    "X_d1['name'] = X_d1['name'].map(name_int_mapping)\n",
    "\n",
    "dataset_2['name'] = dataset_2['name'].map(name_int_mapping)\n",
    "X_d2['name'] = X_d2['name'].map(name_int_mapping)\n",
    "\n",
    "name_int_mapping"
   ]
  },
  {
   "cell_type": "markdown",
   "id": "26c38d5b",
   "metadata": {},
   "source": [
    "- Inverse Mapping"
   ]
  },
  {
   "cell_type": "code",
   "execution_count": 178,
   "id": "16f6a86b",
   "metadata": {},
   "outputs": [
    {
     "name": "stdout",
     "output_type": "stream",
     "text": [
      "0         Urea\n",
      "1          DAP\n",
      "2     14-35-14\n",
      "3        28-28\n",
      "4         Urea\n",
      "        ...   \n",
      "94       28-28\n",
      "95    10-26-26\n",
      "96        Urea\n",
      "97         DAP\n",
      "98       20-20\n",
      "Name: name, Length: 99, dtype: object\n",
      "0       DAP and MOP\n",
      "1          Good NPK\n",
      "2               MOP\n",
      "3      Urea and DAP\n",
      "4      Urea and MOP\n",
      "           ...     \n",
      "195             DAP\n",
      "196    Urea and MOP\n",
      "197    Urea and DAP\n",
      "198             DAP\n",
      "199    Urea and MOP\n",
      "Name: name, Length: 200, dtype: object\n"
     ]
    }
   ],
   "source": [
    "inv_name_mapping = {v : k for k, v in name_int_mapping.items()}\n",
    "print(dataset_1['name'].map(inv_name_mapping))\n",
    "print(dataset_2['name'].map(inv_name_mapping))"
   ]
  },
  {
   "cell_type": "markdown",
   "id": "a1fb5528",
   "metadata": {},
   "source": [
    "### PREPROCESSING : FEATURE SCALING (FOR PREDICTION)\n",
    "- This scaling is intended for the feature predictions from the datasets.\n",
    "- Normalise all except \"name\"."
   ]
  },
  {
   "cell_type": "code",
   "execution_count": 179,
   "id": "17ff16e6",
   "metadata": {},
   "outputs": [
    {
     "name": "stdout",
     "output_type": "stream",
     "text": [
      "Dataset 1\n",
      "    temperature  humidity  nitrogen  potassium  phosphorous  name  moisture\n",
      "0    -1.229084 -1.230737  1.567539  -0.584910    -1.387607     9 -0.462064\n",
      "1    -0.368145 -1.230737 -0.598658  -0.584910     1.297209     5  0.162128\n",
      "2     1.066752  1.006492 -1.031898   0.970777     0.849740     1  1.678023\n",
      "3     0.492793  0.490209  0.267821  -0.584910     0.103958     4 -0.818745\n",
      "4    -0.655125 -0.886548  1.394244  -0.584910    -1.387607     9  0.251298 \n",
      "\n",
      "Dataset 2\n",
      "    temperature  humidity  nitrogen  potassium  phosphorous        ph  \\\n",
      "0    -0.270737 -0.864575  0.974210  -0.633722    -1.219674  0.610146   \n",
      "1     1.234233  1.221650  0.974210   1.450890     0.938086 -0.211545   \n",
      "2    -2.083005 -1.045854  0.974210  -1.328593     0.938086 -1.935486   \n",
      "3    -0.191943  0.975412 -1.228639   0.756019    -1.111786 -1.065460   \n",
      "4    -0.203762  1.108350 -1.228639  -1.189619     0.830198 -0.050429   \n",
      "\n",
      "   rainfall  name  \n",
      "0  2.042117     6  \n",
      "1 -0.618406     7  \n",
      "2  1.468046     8  \n",
      "3 -0.300466    10  \n",
      "4 -0.713286    11   \n",
      "\n",
      "Dataset 3\n",
      "    temperature  humidity  nitrogen  potassium  phosphorous        ph  \\\n",
      "0    -0.935587  0.472666  1.068797  -0.101688    -0.344551  0.043302   \n",
      "1    -0.759646  0.397051  0.933329  -0.141185     0.140616  0.734873   \n",
      "2    -0.515898  0.486954  0.255986  -0.081939     0.049647  1.771510   \n",
      "3     0.172807  0.389805  0.635298  -0.160933    -0.556811  0.660308   \n",
      "4    -1.083647  0.454792  0.743673  -0.121436    -0.344551  1.497868   \n",
      "\n",
      "   rainfall name  \n",
      "0  1.810361  NaN  \n",
      "1  2.242058  NaN  \n",
      "2  2.921066  NaN  \n",
      "3  2.537048  NaN  \n",
      "4  2.898373  NaN   \n",
      "\n"
     ]
    }
   ],
   "source": [
    "scaler = StandardScaler()\n",
    "\n",
    "name_column1 = dataset_1['name']\n",
    "name_column2 = dataset_2['name']\n",
    "name_column3 = dataset_3['name']\n",
    "\n",
    "\n",
    "td_1 = dataset_1\n",
    "td_2 = dataset_2\n",
    "td_3 = dataset_3\n",
    "\n",
    "original_columns1 = td_1.columns.tolist()\n",
    "normalized_columns1 = list(filter(lambda x : x not in [\"ph\", \"rainfall\"], original_columns1))\n",
    "td_scaled1 = scaler.fit_transform(td_1[normalized_columns1])\n",
    "td_1 = pd.DataFrame(td_scaled1, columns=normalized_columns1)\n",
    "td_1[\"name\"] = name_column1\n",
    "\n",
    "original_columns2 = td_2.columns.tolist()\n",
    "normalized_columns2 = list(filter(lambda x : x not in [\"moisture\"], original_columns2))\n",
    "td_scaled2 = scaler.fit_transform(td_2[normalized_columns2])\n",
    "td_2 = pd.DataFrame(td_scaled2, columns=normalized_columns2)\n",
    "td_2[\"name\"] = name_column2\n",
    "\n",
    "original_columns3 = td_3.columns.tolist()\n",
    "normalized_columns3 = list(filter(lambda x : x not in [\"moisture\", \"name\"], original_columns3))\n",
    "td_scaled3 = scaler.fit_transform(td_3[normalized_columns3])\n",
    "td_3 = pd.DataFrame(td_scaled3, columns=normalized_columns3)\n",
    "td_3[\"name\"] = name_column3\n",
    "\n",
    "X_d1 = td_1[used_features[:5] + [used_features[-1], used_features[-2]]]\n",
    "X_d2 = td_2[used_features[:7] + [used_features[-1]]]\n",
    "X_d3 = td_3[used_features[:7]]\n",
    "\n",
    "print(\"Dataset 1\\n\", td_1.head(), '\\n')\n",
    "print(\"Dataset 2\\n\", td_2.head(), '\\n')\n",
    "print(\"Dataset 3\\n\", td_3.head(), '\\n')\n"
   ]
  },
  {
   "cell_type": "markdown",
   "id": "fd331f70",
   "metadata": {},
   "source": [
    "### PREPROCESSING : IMPUTING MISSING VALUES\n",
    "\n",
    "- Using Linear Regression model"
   ]
  },
  {
   "cell_type": "markdown",
   "id": "8f58a691",
   "metadata": {},
   "source": [
    "### Dataset 1\n",
    "\n",
    "<ol>\n",
    "    <li>Predict `rainfall` and `ph` using the third dataset.</li>\n",
    "<ol>"
   ]
  },
  {
   "cell_type": "code",
   "execution_count": 180,
   "id": "c1fc9e20",
   "metadata": {},
   "outputs": [
    {
     "data": {
      "text/html": [
       "<style>#sk-container-id-17 {color: black;}#sk-container-id-17 pre{padding: 0;}#sk-container-id-17 div.sk-toggleable {background-color: white;}#sk-container-id-17 label.sk-toggleable__label {cursor: pointer;display: block;width: 100%;margin-bottom: 0;padding: 0.3em;box-sizing: border-box;text-align: center;}#sk-container-id-17 label.sk-toggleable__label-arrow:before {content: \"▸\";float: left;margin-right: 0.25em;color: #696969;}#sk-container-id-17 label.sk-toggleable__label-arrow:hover:before {color: black;}#sk-container-id-17 div.sk-estimator:hover label.sk-toggleable__label-arrow:before {color: black;}#sk-container-id-17 div.sk-toggleable__content {max-height: 0;max-width: 0;overflow: hidden;text-align: left;background-color: #f0f8ff;}#sk-container-id-17 div.sk-toggleable__content pre {margin: 0.2em;color: black;border-radius: 0.25em;background-color: #f0f8ff;}#sk-container-id-17 input.sk-toggleable__control:checked~div.sk-toggleable__content {max-height: 200px;max-width: 100%;overflow: auto;}#sk-container-id-17 input.sk-toggleable__control:checked~label.sk-toggleable__label-arrow:before {content: \"▾\";}#sk-container-id-17 div.sk-estimator input.sk-toggleable__control:checked~label.sk-toggleable__label {background-color: #d4ebff;}#sk-container-id-17 div.sk-label input.sk-toggleable__control:checked~label.sk-toggleable__label {background-color: #d4ebff;}#sk-container-id-17 input.sk-hidden--visually {border: 0;clip: rect(1px 1px 1px 1px);clip: rect(1px, 1px, 1px, 1px);height: 1px;margin: -1px;overflow: hidden;padding: 0;position: absolute;width: 1px;}#sk-container-id-17 div.sk-estimator {font-family: monospace;background-color: #f0f8ff;border: 1px dotted black;border-radius: 0.25em;box-sizing: border-box;margin-bottom: 0.5em;}#sk-container-id-17 div.sk-estimator:hover {background-color: #d4ebff;}#sk-container-id-17 div.sk-parallel-item::after {content: \"\";width: 100%;border-bottom: 1px solid gray;flex-grow: 1;}#sk-container-id-17 div.sk-label:hover label.sk-toggleable__label {background-color: #d4ebff;}#sk-container-id-17 div.sk-serial::before {content: \"\";position: absolute;border-left: 1px solid gray;box-sizing: border-box;top: 0;bottom: 0;left: 50%;z-index: 0;}#sk-container-id-17 div.sk-serial {display: flex;flex-direction: column;align-items: center;background-color: white;padding-right: 0.2em;padding-left: 0.2em;position: relative;}#sk-container-id-17 div.sk-item {position: relative;z-index: 1;}#sk-container-id-17 div.sk-parallel {display: flex;align-items: stretch;justify-content: center;background-color: white;position: relative;}#sk-container-id-17 div.sk-item::before, #sk-container-id-17 div.sk-parallel-item::before {content: \"\";position: absolute;border-left: 1px solid gray;box-sizing: border-box;top: 0;bottom: 0;left: 50%;z-index: -1;}#sk-container-id-17 div.sk-parallel-item {display: flex;flex-direction: column;z-index: 1;position: relative;background-color: white;}#sk-container-id-17 div.sk-parallel-item:first-child::after {align-self: flex-end;width: 50%;}#sk-container-id-17 div.sk-parallel-item:last-child::after {align-self: flex-start;width: 50%;}#sk-container-id-17 div.sk-parallel-item:only-child::after {width: 0;}#sk-container-id-17 div.sk-dashed-wrapped {border: 1px dashed gray;margin: 0 0.4em 0.5em 0.4em;box-sizing: border-box;padding-bottom: 0.4em;background-color: white;}#sk-container-id-17 div.sk-label label {font-family: monospace;font-weight: bold;display: inline-block;line-height: 1.2em;}#sk-container-id-17 div.sk-label-container {text-align: center;}#sk-container-id-17 div.sk-container {/* jupyter's `normalize.less` sets `[hidden] { display: none; }` but bootstrap.min.css set `[hidden] { display: none !important; }` so we also need the `!important` here to be able to override the default hidden behavior on the sphinx rendered scikit-learn.org. See: https://github.com/scikit-learn/scikit-learn/issues/21755 */display: inline-block !important;position: relative;}#sk-container-id-17 div.sk-text-repr-fallback {display: none;}</style><div id=\"sk-container-id-17\" class=\"sk-top-container\"><div class=\"sk-text-repr-fallback\"><pre>LinearRegression()</pre><b>In a Jupyter environment, please rerun this cell to show the HTML representation or trust the notebook. <br />On GitHub, the HTML representation is unable to render, please try loading this page with nbviewer.org.</b></div><div class=\"sk-container\" hidden><div class=\"sk-item\"><div class=\"sk-estimator sk-toggleable\"><input class=\"sk-toggleable__control sk-hidden--visually\" id=\"sk-estimator-id-17\" type=\"checkbox\" checked><label for=\"sk-estimator-id-17\" class=\"sk-toggleable__label sk-toggleable__label-arrow\">LinearRegression</label><div class=\"sk-toggleable__content\"><pre>LinearRegression()</pre></div></div></div></div></div>"
      ],
      "text/plain": [
       "LinearRegression()"
      ]
     },
     "execution_count": 180,
     "metadata": {},
     "output_type": "execute_result"
    }
   ],
   "source": [
    "y_d3 = X_d3[['rainfall', 'ph']]\n",
    "X_d3 = X_d3.drop(columns=[\"rainfall\", 'ph'], axis=1)\n",
    "\n",
    "model = LinearRegression()\n",
    "model.fit(X_d3, y_d3)"
   ]
  },
  {
   "cell_type": "code",
   "execution_count": 181,
   "id": "85fa4c05",
   "metadata": {},
   "outputs": [
    {
     "data": {
      "text/plain": [
       "array([[ 1.50935200e-03,  2.44480920e-01],\n",
       "       [-5.45291140e-02,  5.43693075e-02],\n",
       "       [-5.59765911e-02, -2.71898372e-01],\n",
       "       [ 9.72627352e-02,  1.06020687e-01],\n",
       "       [-2.18275285e-04,  2.10290727e-01],\n",
       "       [-2.13159841e-01, -2.05310069e-01],\n",
       "       [-7.17213837e-02,  8.37689889e-02],\n",
       "       [ 1.30550640e-01,  2.10594461e-01],\n",
       "       [ 8.80849320e-02,  1.21716567e-01],\n",
       "       [-6.68122197e-02, -1.52150532e-01],\n",
       "       [ 3.86743817e-02,  9.84935234e-02],\n",
       "       [-1.82614162e-01, -3.79658032e-01],\n",
       "       [-2.41582870e-02,  2.45631287e-01],\n",
       "       [ 1.05737445e-01,  1.18459433e-01],\n",
       "       [ 1.96748180e-02,  1.11918831e-01],\n",
       "       [-1.53246285e-01, -3.43446448e-01],\n",
       "       [ 1.23258479e-01,  1.92427756e-01],\n",
       "       [-2.62930271e-02,  1.57910047e-01],\n",
       "       [ 9.50460555e-03,  2.34513000e-01],\n",
       "       [ 7.79216797e-02,  8.34264357e-02]])"
      ]
     },
     "execution_count": 181,
     "metadata": {},
     "output_type": "execute_result"
    }
   ],
   "source": [
    "X_train1 = X_d1.drop(columns=['name', 'moisture']) # drop since still null\n",
    "y_pred = model.predict(X_train1)\n",
    "y_pred = np.array(y_pred)\n",
    "\n",
    "y_pred[:20]"
   ]
  },
  {
   "cell_type": "code",
   "execution_count": 182,
   "id": "12883f3f",
   "metadata": {},
   "outputs": [
    {
     "data": {
      "text/plain": [
       "0.971874927011362"
      ]
     },
     "execution_count": 182,
     "metadata": {},
     "output_type": "execute_result"
    }
   ],
   "source": [
    "y_pred2 = model.predict(X_d3)\n",
    "mse = mean_squared_error(y_d3, y_pred2)\n",
    "mse"
   ]
  },
  {
   "cell_type": "markdown",
   "id": "6863784c",
   "metadata": {},
   "source": [
    "- Insert the prediction result into the original dataset"
   ]
  },
  {
   "cell_type": "code",
   "execution_count": 183,
   "id": "c739f8e0",
   "metadata": {},
   "outputs": [
    {
     "name": "stdout",
     "output_type": "stream",
     "text": [
      "   temperature  humidity  nitrogen  potassium  phosphorous  name  moisture  \\\n",
      "0           26        52        37          0            0     9        38   \n",
      "1           29        52        12          0           36     5        45   \n",
      "2           34        65         7          9           30     1        62   \n",
      "3           32        62        22          0           20     4        34   \n",
      "4           28        54        35          0            0     9        46   \n",
      "\n",
      "         ph  rainfall  \n",
      "0  0.244481  0.001509  \n",
      "1  0.054369 -0.054529  \n",
      "2 -0.271898 -0.055977  \n",
      "3  0.106021  0.097263  \n",
      "4  0.210291 -0.000218  \n"
     ]
    }
   ],
   "source": [
    "dataset_1[\"rainfall\"] = y_pred[:, 0]\n",
    "dataset_1[\"ph\"] = y_pred[:, 1]\n",
    "print(dataset_1.head())"
   ]
  },
  {
   "cell_type": "markdown",
   "id": "6bbdbfb7",
   "metadata": {},
   "source": [
    "### Dataset 2\n",
    "\n",
    "<ol>\n",
    "    <li>Predict `moisture` using the first dataset.</li>\n",
    "<ol>"
   ]
  },
  {
   "cell_type": "code",
   "execution_count": 184,
   "id": "604d604a",
   "metadata": {},
   "outputs": [
    {
     "data": {
      "text/html": [
       "<style>#sk-container-id-18 {color: black;}#sk-container-id-18 pre{padding: 0;}#sk-container-id-18 div.sk-toggleable {background-color: white;}#sk-container-id-18 label.sk-toggleable__label {cursor: pointer;display: block;width: 100%;margin-bottom: 0;padding: 0.3em;box-sizing: border-box;text-align: center;}#sk-container-id-18 label.sk-toggleable__label-arrow:before {content: \"▸\";float: left;margin-right: 0.25em;color: #696969;}#sk-container-id-18 label.sk-toggleable__label-arrow:hover:before {color: black;}#sk-container-id-18 div.sk-estimator:hover label.sk-toggleable__label-arrow:before {color: black;}#sk-container-id-18 div.sk-toggleable__content {max-height: 0;max-width: 0;overflow: hidden;text-align: left;background-color: #f0f8ff;}#sk-container-id-18 div.sk-toggleable__content pre {margin: 0.2em;color: black;border-radius: 0.25em;background-color: #f0f8ff;}#sk-container-id-18 input.sk-toggleable__control:checked~div.sk-toggleable__content {max-height: 200px;max-width: 100%;overflow: auto;}#sk-container-id-18 input.sk-toggleable__control:checked~label.sk-toggleable__label-arrow:before {content: \"▾\";}#sk-container-id-18 div.sk-estimator input.sk-toggleable__control:checked~label.sk-toggleable__label {background-color: #d4ebff;}#sk-container-id-18 div.sk-label input.sk-toggleable__control:checked~label.sk-toggleable__label {background-color: #d4ebff;}#sk-container-id-18 input.sk-hidden--visually {border: 0;clip: rect(1px 1px 1px 1px);clip: rect(1px, 1px, 1px, 1px);height: 1px;margin: -1px;overflow: hidden;padding: 0;position: absolute;width: 1px;}#sk-container-id-18 div.sk-estimator {font-family: monospace;background-color: #f0f8ff;border: 1px dotted black;border-radius: 0.25em;box-sizing: border-box;margin-bottom: 0.5em;}#sk-container-id-18 div.sk-estimator:hover {background-color: #d4ebff;}#sk-container-id-18 div.sk-parallel-item::after {content: \"\";width: 100%;border-bottom: 1px solid gray;flex-grow: 1;}#sk-container-id-18 div.sk-label:hover label.sk-toggleable__label {background-color: #d4ebff;}#sk-container-id-18 div.sk-serial::before {content: \"\";position: absolute;border-left: 1px solid gray;box-sizing: border-box;top: 0;bottom: 0;left: 50%;z-index: 0;}#sk-container-id-18 div.sk-serial {display: flex;flex-direction: column;align-items: center;background-color: white;padding-right: 0.2em;padding-left: 0.2em;position: relative;}#sk-container-id-18 div.sk-item {position: relative;z-index: 1;}#sk-container-id-18 div.sk-parallel {display: flex;align-items: stretch;justify-content: center;background-color: white;position: relative;}#sk-container-id-18 div.sk-item::before, #sk-container-id-18 div.sk-parallel-item::before {content: \"\";position: absolute;border-left: 1px solid gray;box-sizing: border-box;top: 0;bottom: 0;left: 50%;z-index: -1;}#sk-container-id-18 div.sk-parallel-item {display: flex;flex-direction: column;z-index: 1;position: relative;background-color: white;}#sk-container-id-18 div.sk-parallel-item:first-child::after {align-self: flex-end;width: 50%;}#sk-container-id-18 div.sk-parallel-item:last-child::after {align-self: flex-start;width: 50%;}#sk-container-id-18 div.sk-parallel-item:only-child::after {width: 0;}#sk-container-id-18 div.sk-dashed-wrapped {border: 1px dashed gray;margin: 0 0.4em 0.5em 0.4em;box-sizing: border-box;padding-bottom: 0.4em;background-color: white;}#sk-container-id-18 div.sk-label label {font-family: monospace;font-weight: bold;display: inline-block;line-height: 1.2em;}#sk-container-id-18 div.sk-label-container {text-align: center;}#sk-container-id-18 div.sk-container {/* jupyter's `normalize.less` sets `[hidden] { display: none; }` but bootstrap.min.css set `[hidden] { display: none !important; }` so we also need the `!important` here to be able to override the default hidden behavior on the sphinx rendered scikit-learn.org. See: https://github.com/scikit-learn/scikit-learn/issues/21755 */display: inline-block !important;position: relative;}#sk-container-id-18 div.sk-text-repr-fallback {display: none;}</style><div id=\"sk-container-id-18\" class=\"sk-top-container\"><div class=\"sk-text-repr-fallback\"><pre>LinearRegression()</pre><b>In a Jupyter environment, please rerun this cell to show the HTML representation or trust the notebook. <br />On GitHub, the HTML representation is unable to render, please try loading this page with nbviewer.org.</b></div><div class=\"sk-container\" hidden><div class=\"sk-item\"><div class=\"sk-estimator sk-toggleable\"><input class=\"sk-toggleable__control sk-hidden--visually\" id=\"sk-estimator-id-18\" type=\"checkbox\" checked><label for=\"sk-estimator-id-18\" class=\"sk-toggleable__label sk-toggleable__label-arrow\">LinearRegression</label><div class=\"sk-toggleable__content\"><pre>LinearRegression()</pre></div></div></div></div></div>"
      ],
      "text/plain": [
       "LinearRegression()"
      ]
     },
     "execution_count": 184,
     "metadata": {},
     "output_type": "execute_result"
    }
   ],
   "source": [
    "y_d1 = X_d1[['moisture']]\n",
    "X_d1 = X_d1.drop(columns=[\"moisture\"], axis=1)\n",
    "\n",
    "model = LinearRegression()\n",
    "model.fit(X_d1, y_d1)"
   ]
  },
  {
   "cell_type": "code",
   "execution_count": 185,
   "id": "92b0d1fe",
   "metadata": {},
   "outputs": [
    {
     "data": {
      "text/plain": [
       "array([[-0.6472707 ],\n",
       "       [-0.8743558 ],\n",
       "       [-1.53127455],\n",
       "       [ 0.03087253],\n",
       "       [-0.24962087],\n",
       "       [-0.90376099],\n",
       "       [-0.27468798],\n",
       "       [-0.57658642],\n",
       "       [-0.24589158],\n",
       "       [-0.74996871],\n",
       "       [-0.39154194],\n",
       "       [-0.95257448],\n",
       "       [-0.97606553],\n",
       "       [-0.76721763],\n",
       "       [-0.35938335],\n",
       "       [ 0.02623538],\n",
       "       [-0.74008924],\n",
       "       [ 0.18617442],\n",
       "       [ 0.5822412 ],\n",
       "       [ 0.30140222]])"
      ]
     },
     "execution_count": 185,
     "metadata": {},
     "output_type": "execute_result"
    }
   ],
   "source": [
    "X_train2 = dataset_2.drop(columns=['moisture','rainfall', 'ph'])\n",
    "y_pred = model.predict(X_train2)\n",
    "y_pred = np.array(y_pred)\n",
    "\n",
    "y_pred[:20]"
   ]
  },
  {
   "cell_type": "code",
   "execution_count": 186,
   "id": "0bd6733f",
   "metadata": {},
   "outputs": [
    {
     "data": {
      "text/plain": [
       "0.9647649413001642"
      ]
     },
     "execution_count": 186,
     "metadata": {},
     "output_type": "execute_result"
    }
   ],
   "source": [
    "y_pred2 = model.predict(X_d1)\n",
    "mse = mean_squared_error(y_d1, y_pred2)\n",
    "mse"
   ]
  },
  {
   "cell_type": "markdown",
   "id": "ab1cb6fd",
   "metadata": {},
   "source": [
    "- Insert the prediction result into the original dataset"
   ]
  },
  {
   "cell_type": "code",
   "execution_count": 187,
   "id": "540adf2e",
   "metadata": {},
   "outputs": [
    {
     "name": "stdout",
     "output_type": "stream",
     "text": [
      "   temperature  humidity  nitrogen  potassium  phosphorous    ph  rainfall  \\\n",
      "0        24.87     82.84       4.0        2.5          2.0  6.59    295.61   \n",
      "1        28.69     96.65       4.0        4.0          4.0  6.08    178.96   \n",
      "2        20.27     81.64       4.0        2.0          4.0  5.01    270.44   \n",
      "3        25.07     95.02       2.0        3.5          2.1  5.55    192.90   \n",
      "4        25.04     95.90       2.0        2.1          3.9  6.18    174.80   \n",
      "\n",
      "   name  moisture  \n",
      "0     6 -0.647271  \n",
      "1     7 -0.874356  \n",
      "2     8 -1.531275  \n",
      "3    10  0.030873  \n",
      "4    11 -0.249621  \n"
     ]
    }
   ],
   "source": [
    "dataset_2[\"moisture\"] = y_pred[:, 0]\n",
    "print(dataset_2.head())"
   ]
  },
  {
   "cell_type": "markdown",
   "id": "36f5b36c",
   "metadata": {},
   "source": [
    "### Dataset 3\n",
    "\n",
    "<ol>\n",
    "    <li>Predict `name` using the first and second dataset.</li>\n",
    "<ol>"
   ]
  },
  {
   "cell_type": "code",
   "execution_count": 188,
   "id": "a4647d9a",
   "metadata": {},
   "outputs": [
    {
     "name": "stderr",
     "output_type": "stream",
     "text": [
      "C:\\ProgramData\\anaconda3\\Lib\\site-packages\\sklearn\\utils\\validation.py:1184: DataConversionWarning: A column-vector y was passed when a 1d array was expected. Please change the shape of y to (n_samples, ), for example using ravel().\n",
      "  y = column_or_1d(y, warn=True)\n"
     ]
    },
    {
     "data": {
      "text/html": [
       "<style>#sk-container-id-19 {color: black;}#sk-container-id-19 pre{padding: 0;}#sk-container-id-19 div.sk-toggleable {background-color: white;}#sk-container-id-19 label.sk-toggleable__label {cursor: pointer;display: block;width: 100%;margin-bottom: 0;padding: 0.3em;box-sizing: border-box;text-align: center;}#sk-container-id-19 label.sk-toggleable__label-arrow:before {content: \"▸\";float: left;margin-right: 0.25em;color: #696969;}#sk-container-id-19 label.sk-toggleable__label-arrow:hover:before {color: black;}#sk-container-id-19 div.sk-estimator:hover label.sk-toggleable__label-arrow:before {color: black;}#sk-container-id-19 div.sk-toggleable__content {max-height: 0;max-width: 0;overflow: hidden;text-align: left;background-color: #f0f8ff;}#sk-container-id-19 div.sk-toggleable__content pre {margin: 0.2em;color: black;border-radius: 0.25em;background-color: #f0f8ff;}#sk-container-id-19 input.sk-toggleable__control:checked~div.sk-toggleable__content {max-height: 200px;max-width: 100%;overflow: auto;}#sk-container-id-19 input.sk-toggleable__control:checked~label.sk-toggleable__label-arrow:before {content: \"▾\";}#sk-container-id-19 div.sk-estimator input.sk-toggleable__control:checked~label.sk-toggleable__label {background-color: #d4ebff;}#sk-container-id-19 div.sk-label input.sk-toggleable__control:checked~label.sk-toggleable__label {background-color: #d4ebff;}#sk-container-id-19 input.sk-hidden--visually {border: 0;clip: rect(1px 1px 1px 1px);clip: rect(1px, 1px, 1px, 1px);height: 1px;margin: -1px;overflow: hidden;padding: 0;position: absolute;width: 1px;}#sk-container-id-19 div.sk-estimator {font-family: monospace;background-color: #f0f8ff;border: 1px dotted black;border-radius: 0.25em;box-sizing: border-box;margin-bottom: 0.5em;}#sk-container-id-19 div.sk-estimator:hover {background-color: #d4ebff;}#sk-container-id-19 div.sk-parallel-item::after {content: \"\";width: 100%;border-bottom: 1px solid gray;flex-grow: 1;}#sk-container-id-19 div.sk-label:hover label.sk-toggleable__label {background-color: #d4ebff;}#sk-container-id-19 div.sk-serial::before {content: \"\";position: absolute;border-left: 1px solid gray;box-sizing: border-box;top: 0;bottom: 0;left: 50%;z-index: 0;}#sk-container-id-19 div.sk-serial {display: flex;flex-direction: column;align-items: center;background-color: white;padding-right: 0.2em;padding-left: 0.2em;position: relative;}#sk-container-id-19 div.sk-item {position: relative;z-index: 1;}#sk-container-id-19 div.sk-parallel {display: flex;align-items: stretch;justify-content: center;background-color: white;position: relative;}#sk-container-id-19 div.sk-item::before, #sk-container-id-19 div.sk-parallel-item::before {content: \"\";position: absolute;border-left: 1px solid gray;box-sizing: border-box;top: 0;bottom: 0;left: 50%;z-index: -1;}#sk-container-id-19 div.sk-parallel-item {display: flex;flex-direction: column;z-index: 1;position: relative;background-color: white;}#sk-container-id-19 div.sk-parallel-item:first-child::after {align-self: flex-end;width: 50%;}#sk-container-id-19 div.sk-parallel-item:last-child::after {align-self: flex-start;width: 50%;}#sk-container-id-19 div.sk-parallel-item:only-child::after {width: 0;}#sk-container-id-19 div.sk-dashed-wrapped {border: 1px dashed gray;margin: 0 0.4em 0.5em 0.4em;box-sizing: border-box;padding-bottom: 0.4em;background-color: white;}#sk-container-id-19 div.sk-label label {font-family: monospace;font-weight: bold;display: inline-block;line-height: 1.2em;}#sk-container-id-19 div.sk-label-container {text-align: center;}#sk-container-id-19 div.sk-container {/* jupyter's `normalize.less` sets `[hidden] { display: none; }` but bootstrap.min.css set `[hidden] { display: none !important; }` so we also need the `!important` here to be able to override the default hidden behavior on the sphinx rendered scikit-learn.org. See: https://github.com/scikit-learn/scikit-learn/issues/21755 */display: inline-block !important;position: relative;}#sk-container-id-19 div.sk-text-repr-fallback {display: none;}</style><div id=\"sk-container-id-19\" class=\"sk-top-container\"><div class=\"sk-text-repr-fallback\"><pre>LogisticRegression(max_iter=10000, multi_class=&#x27;ovr&#x27;, random_state=42)</pre><b>In a Jupyter environment, please rerun this cell to show the HTML representation or trust the notebook. <br />On GitHub, the HTML representation is unable to render, please try loading this page with nbviewer.org.</b></div><div class=\"sk-container\" hidden><div class=\"sk-item\"><div class=\"sk-estimator sk-toggleable\"><input class=\"sk-toggleable__control sk-hidden--visually\" id=\"sk-estimator-id-19\" type=\"checkbox\" checked><label for=\"sk-estimator-id-19\" class=\"sk-toggleable__label sk-toggleable__label-arrow\">LogisticRegression</label><div class=\"sk-toggleable__content\"><pre>LogisticRegression(max_iter=10000, multi_class=&#x27;ovr&#x27;, random_state=42)</pre></div></div></div></div></div>"
      ],
      "text/plain": [
       "LogisticRegression(max_iter=10000, multi_class='ovr', random_state=42)"
      ]
     },
     "execution_count": 188,
     "metadata": {},
     "output_type": "execute_result"
    }
   ],
   "source": [
    "# merge dataset 1 and 2\n",
    "dataset_1 = dataset_1.astype(float)\n",
    "dataset_2 = dataset_2.astype(float)\n",
    "dataset_3 = dataset_3.astype(float)\n",
    "merged_dataset = pd.merge(dataset_1, dataset_2, how='outer')\n",
    "\n",
    "y = merged_dataset[['name']]\n",
    "X = merged_dataset.drop(columns=[\"name\", 'moisture'], axis=1)\n",
    "\n",
    "model = LogisticRegression(max_iter=10000, multi_class='ovr', random_state=42)\n",
    "model.fit(X, y)"
   ]
  },
  {
   "cell_type": "code",
   "execution_count": 189,
   "id": "f1296dea",
   "metadata": {},
   "outputs": [
    {
     "data": {
      "text/plain": [
       "array([0., 5., 7.])"
      ]
     },
     "execution_count": 189,
     "metadata": {},
     "output_type": "execute_result"
    }
   ],
   "source": [
    "X_train3 = dataset_3.drop(columns=['name','moisture'])\n",
    "y_pred = model.predict(X_train3)\n",
    "y_pred = np.array(y_pred)\n",
    "np.unique(y_pred[:])"
   ]
  },
  {
   "cell_type": "code",
   "execution_count": 190,
   "id": "5cfdc946",
   "metadata": {},
   "outputs": [
    {
     "data": {
      "text/plain": [
       "0.8127090301003345"
      ]
     },
     "execution_count": 190,
     "metadata": {},
     "output_type": "execute_result"
    }
   ],
   "source": [
    "y_pred2 = model.predict(X)\n",
    "accuracy = accuracy_score(y, y_pred2)\n",
    "accuracy"
   ]
  },
  {
   "cell_type": "markdown",
   "id": "5f03b430",
   "metadata": {},
   "source": [
    "- Insert the prediction result into the original dataset"
   ]
  },
  {
   "cell_type": "code",
   "execution_count": 191,
   "id": "8363ae74",
   "metadata": {},
   "outputs": [
    {
     "name": "stdout",
     "output_type": "stream",
     "text": [
      "   temperature   humidity  nitrogen  potassium  phosphorous        ph  \\\n",
      "0    20.879744  82.002744      90.0       43.0         42.0  6.502985   \n",
      "1    21.770462  80.319644      85.0       41.0         58.0  7.038096   \n",
      "2    23.004459  82.320763      60.0       44.0         55.0  7.840207   \n",
      "3    26.491096  80.158363      74.0       40.0         35.0  6.980401   \n",
      "4    20.130175  81.604873      78.0       42.0         42.0  7.628473   \n",
      "\n",
      "     rainfall  moisture  name  \n",
      "0  202.935536       NaN     7  \n",
      "1  226.655537       NaN     7  \n",
      "2  263.964248       NaN     7  \n",
      "3  242.864034       NaN     7  \n",
      "4  262.717340       NaN     7  \n"
     ]
    }
   ],
   "source": [
    "# dataset_3[\"moisture\"] = y_pred[:, 0]\n",
    "dataset_3[\"name\"] = y_pred[:].round().astype(int)\n",
    "print(dataset_3.head())"
   ]
  },
  {
   "cell_type": "markdown",
   "id": "6f8462c2",
   "metadata": {},
   "source": [
    "- Predict `moisture` using the first and second dataset"
   ]
  },
  {
   "cell_type": "code",
   "execution_count": 192,
   "id": "fe0b548e",
   "metadata": {},
   "outputs": [
    {
     "data": {
      "text/html": [
       "<style>#sk-container-id-20 {color: black;}#sk-container-id-20 pre{padding: 0;}#sk-container-id-20 div.sk-toggleable {background-color: white;}#sk-container-id-20 label.sk-toggleable__label {cursor: pointer;display: block;width: 100%;margin-bottom: 0;padding: 0.3em;box-sizing: border-box;text-align: center;}#sk-container-id-20 label.sk-toggleable__label-arrow:before {content: \"▸\";float: left;margin-right: 0.25em;color: #696969;}#sk-container-id-20 label.sk-toggleable__label-arrow:hover:before {color: black;}#sk-container-id-20 div.sk-estimator:hover label.sk-toggleable__label-arrow:before {color: black;}#sk-container-id-20 div.sk-toggleable__content {max-height: 0;max-width: 0;overflow: hidden;text-align: left;background-color: #f0f8ff;}#sk-container-id-20 div.sk-toggleable__content pre {margin: 0.2em;color: black;border-radius: 0.25em;background-color: #f0f8ff;}#sk-container-id-20 input.sk-toggleable__control:checked~div.sk-toggleable__content {max-height: 200px;max-width: 100%;overflow: auto;}#sk-container-id-20 input.sk-toggleable__control:checked~label.sk-toggleable__label-arrow:before {content: \"▾\";}#sk-container-id-20 div.sk-estimator input.sk-toggleable__control:checked~label.sk-toggleable__label {background-color: #d4ebff;}#sk-container-id-20 div.sk-label input.sk-toggleable__control:checked~label.sk-toggleable__label {background-color: #d4ebff;}#sk-container-id-20 input.sk-hidden--visually {border: 0;clip: rect(1px 1px 1px 1px);clip: rect(1px, 1px, 1px, 1px);height: 1px;margin: -1px;overflow: hidden;padding: 0;position: absolute;width: 1px;}#sk-container-id-20 div.sk-estimator {font-family: monospace;background-color: #f0f8ff;border: 1px dotted black;border-radius: 0.25em;box-sizing: border-box;margin-bottom: 0.5em;}#sk-container-id-20 div.sk-estimator:hover {background-color: #d4ebff;}#sk-container-id-20 div.sk-parallel-item::after {content: \"\";width: 100%;border-bottom: 1px solid gray;flex-grow: 1;}#sk-container-id-20 div.sk-label:hover label.sk-toggleable__label {background-color: #d4ebff;}#sk-container-id-20 div.sk-serial::before {content: \"\";position: absolute;border-left: 1px solid gray;box-sizing: border-box;top: 0;bottom: 0;left: 50%;z-index: 0;}#sk-container-id-20 div.sk-serial {display: flex;flex-direction: column;align-items: center;background-color: white;padding-right: 0.2em;padding-left: 0.2em;position: relative;}#sk-container-id-20 div.sk-item {position: relative;z-index: 1;}#sk-container-id-20 div.sk-parallel {display: flex;align-items: stretch;justify-content: center;background-color: white;position: relative;}#sk-container-id-20 div.sk-item::before, #sk-container-id-20 div.sk-parallel-item::before {content: \"\";position: absolute;border-left: 1px solid gray;box-sizing: border-box;top: 0;bottom: 0;left: 50%;z-index: -1;}#sk-container-id-20 div.sk-parallel-item {display: flex;flex-direction: column;z-index: 1;position: relative;background-color: white;}#sk-container-id-20 div.sk-parallel-item:first-child::after {align-self: flex-end;width: 50%;}#sk-container-id-20 div.sk-parallel-item:last-child::after {align-self: flex-start;width: 50%;}#sk-container-id-20 div.sk-parallel-item:only-child::after {width: 0;}#sk-container-id-20 div.sk-dashed-wrapped {border: 1px dashed gray;margin: 0 0.4em 0.5em 0.4em;box-sizing: border-box;padding-bottom: 0.4em;background-color: white;}#sk-container-id-20 div.sk-label label {font-family: monospace;font-weight: bold;display: inline-block;line-height: 1.2em;}#sk-container-id-20 div.sk-label-container {text-align: center;}#sk-container-id-20 div.sk-container {/* jupyter's `normalize.less` sets `[hidden] { display: none; }` but bootstrap.min.css set `[hidden] { display: none !important; }` so we also need the `!important` here to be able to override the default hidden behavior on the sphinx rendered scikit-learn.org. See: https://github.com/scikit-learn/scikit-learn/issues/21755 */display: inline-block !important;position: relative;}#sk-container-id-20 div.sk-text-repr-fallback {display: none;}</style><div id=\"sk-container-id-20\" class=\"sk-top-container\"><div class=\"sk-text-repr-fallback\"><pre>LinearRegression()</pre><b>In a Jupyter environment, please rerun this cell to show the HTML representation or trust the notebook. <br />On GitHub, the HTML representation is unable to render, please try loading this page with nbviewer.org.</b></div><div class=\"sk-container\" hidden><div class=\"sk-item\"><div class=\"sk-estimator sk-toggleable\"><input class=\"sk-toggleable__control sk-hidden--visually\" id=\"sk-estimator-id-20\" type=\"checkbox\" checked><label for=\"sk-estimator-id-20\" class=\"sk-toggleable__label sk-toggleable__label-arrow\">LinearRegression</label><div class=\"sk-toggleable__content\"><pre>LinearRegression()</pre></div></div></div></div></div>"
      ],
      "text/plain": [
       "LinearRegression()"
      ]
     },
     "execution_count": 192,
     "metadata": {},
     "output_type": "execute_result"
    }
   ],
   "source": [
    "name_col = merged_dataset[\"name\"]\n",
    "norm_columns = list(filter(lambda x : x != \"name\", original_columns1))\n",
    "t_merged_dataset = scaler.fit_transform(merged_dataset[norm_columns])\n",
    "t_merged_dataset = pd.DataFrame(t_merged_dataset, columns=norm_columns)\n",
    "t_merged_dataset[\"name\"] = name_col\n",
    "\n",
    "y = t_merged_dataset[['moisture']]\n",
    "X = t_merged_dataset.drop(columns=[\"name\", 'moisture'], axis=1)\n",
    "\n",
    "model = LinearRegression()\n",
    "model.fit(X, y)"
   ]
  },
  {
   "cell_type": "code",
   "execution_count": 193,
   "id": "f7cb8503",
   "metadata": {},
   "outputs": [
    {
     "data": {
      "text/plain": [
       "array([[-15.16232479],\n",
       "       [-14.19346773],\n",
       "       [-17.80849344],\n",
       "       [-17.41795968],\n",
       "       [-15.50922129],\n",
       "       [-14.55300296],\n",
       "       [-13.90803163],\n",
       "       [-18.3957283 ],\n",
       "       [-16.98379683],\n",
       "       [-16.1690975 ],\n",
       "       [-15.21569089],\n",
       "       [-17.33363228],\n",
       "       [-14.5903503 ],\n",
       "       [-17.47859149],\n",
       "       [-14.70066684],\n",
       "       [-17.23272017],\n",
       "       [-18.3158247 ],\n",
       "       [-14.26077839],\n",
       "       [-15.61575943],\n",
       "       [-16.29164532]])"
      ]
     },
     "execution_count": 193,
     "metadata": {},
     "output_type": "execute_result"
    }
   ],
   "source": [
    "print(td_3)\n",
    "X_train3 = td3.drop(columns=['name', 'moisture'])\n",
    "\n",
    "y_pred = model.predict(X_train3)\n",
    "y_pred = np.array(y_pred)\n",
    "y_pred[:20]"
   ]
  },
  {
   "cell_type": "code",
   "execution_count": 194,
   "id": "d557d97b",
   "metadata": {},
   "outputs": [
    {
     "data": {
      "text/plain": [
       "0.09973377854818619"
      ]
     },
     "execution_count": 194,
     "metadata": {},
     "output_type": "execute_result"
    }
   ],
   "source": [
    "y_pred2 = model.predict(X)\n",
    "mse = mean_squared_error(y, y_pred2)\n",
    "mse"
   ]
  },
  {
   "cell_type": "markdown",
   "id": "4f6170bc",
   "metadata": {},
   "source": [
    "- Insert the prediction result into the original dataset"
   ]
  },
  {
   "cell_type": "code",
   "execution_count": 195,
   "id": "8b0e486e",
   "metadata": {},
   "outputs": [
    {
     "ename": "ValueError",
     "evalue": "Length of values (299) does not match length of index (2200)",
     "output_type": "error",
     "traceback": [
      "\u001b[1;31m---------------------------------------------------------------------------\u001b[0m",
      "\u001b[1;31mValueError\u001b[0m                                Traceback (most recent call last)",
      "Cell \u001b[1;32mIn[195], line 1\u001b[0m\n\u001b[1;32m----> 1\u001b[0m dataset_3[\u001b[38;5;124m\"\u001b[39m\u001b[38;5;124mmoisture\u001b[39m\u001b[38;5;124m\"\u001b[39m] \u001b[38;5;241m=\u001b[39m y_pred[:]\n\u001b[0;32m      2\u001b[0m dataset_3\u001b[38;5;241m.\u001b[39mhead()\n",
      "File \u001b[1;32mC:\\ProgramData\\anaconda3\\Lib\\site-packages\\pandas\\core\\frame.py:3980\u001b[0m, in \u001b[0;36mDataFrame.__setitem__\u001b[1;34m(self, key, value)\u001b[0m\n\u001b[0;32m   3977\u001b[0m     \u001b[38;5;28mself\u001b[39m\u001b[38;5;241m.\u001b[39m_setitem_array([key], value)\n\u001b[0;32m   3978\u001b[0m \u001b[38;5;28;01melse\u001b[39;00m:\n\u001b[0;32m   3979\u001b[0m     \u001b[38;5;66;03m# set column\u001b[39;00m\n\u001b[1;32m-> 3980\u001b[0m     \u001b[38;5;28mself\u001b[39m\u001b[38;5;241m.\u001b[39m_set_item(key, value)\n",
      "File \u001b[1;32mC:\\ProgramData\\anaconda3\\Lib\\site-packages\\pandas\\core\\frame.py:4174\u001b[0m, in \u001b[0;36mDataFrame._set_item\u001b[1;34m(self, key, value)\u001b[0m\n\u001b[0;32m   4164\u001b[0m \u001b[38;5;28;01mdef\u001b[39;00m \u001b[38;5;21m_set_item\u001b[39m(\u001b[38;5;28mself\u001b[39m, key, value) \u001b[38;5;241m-\u001b[39m\u001b[38;5;241m>\u001b[39m \u001b[38;5;28;01mNone\u001b[39;00m:\n\u001b[0;32m   4165\u001b[0m \u001b[38;5;250m    \u001b[39m\u001b[38;5;124;03m\"\"\"\u001b[39;00m\n\u001b[0;32m   4166\u001b[0m \u001b[38;5;124;03m    Add series to DataFrame in specified column.\u001b[39;00m\n\u001b[0;32m   4167\u001b[0m \n\u001b[1;32m   (...)\u001b[0m\n\u001b[0;32m   4172\u001b[0m \u001b[38;5;124;03m    ensure homogeneity.\u001b[39;00m\n\u001b[0;32m   4173\u001b[0m \u001b[38;5;124;03m    \"\"\"\u001b[39;00m\n\u001b[1;32m-> 4174\u001b[0m     value \u001b[38;5;241m=\u001b[39m \u001b[38;5;28mself\u001b[39m\u001b[38;5;241m.\u001b[39m_sanitize_column(value)\n\u001b[0;32m   4176\u001b[0m     \u001b[38;5;28;01mif\u001b[39;00m (\n\u001b[0;32m   4177\u001b[0m         key \u001b[38;5;129;01min\u001b[39;00m \u001b[38;5;28mself\u001b[39m\u001b[38;5;241m.\u001b[39mcolumns\n\u001b[0;32m   4178\u001b[0m         \u001b[38;5;129;01mand\u001b[39;00m value\u001b[38;5;241m.\u001b[39mndim \u001b[38;5;241m==\u001b[39m \u001b[38;5;241m1\u001b[39m\n\u001b[0;32m   4179\u001b[0m         \u001b[38;5;129;01mand\u001b[39;00m \u001b[38;5;129;01mnot\u001b[39;00m is_extension_array_dtype(value)\n\u001b[0;32m   4180\u001b[0m     ):\n\u001b[0;32m   4181\u001b[0m         \u001b[38;5;66;03m# broadcast across multiple columns if necessary\u001b[39;00m\n\u001b[0;32m   4182\u001b[0m         \u001b[38;5;28;01mif\u001b[39;00m \u001b[38;5;129;01mnot\u001b[39;00m \u001b[38;5;28mself\u001b[39m\u001b[38;5;241m.\u001b[39mcolumns\u001b[38;5;241m.\u001b[39mis_unique \u001b[38;5;129;01mor\u001b[39;00m \u001b[38;5;28misinstance\u001b[39m(\u001b[38;5;28mself\u001b[39m\u001b[38;5;241m.\u001b[39mcolumns, MultiIndex):\n",
      "File \u001b[1;32mC:\\ProgramData\\anaconda3\\Lib\\site-packages\\pandas\\core\\frame.py:4915\u001b[0m, in \u001b[0;36mDataFrame._sanitize_column\u001b[1;34m(self, value)\u001b[0m\n\u001b[0;32m   4912\u001b[0m     \u001b[38;5;28;01mreturn\u001b[39;00m _reindex_for_setitem(Series(value), \u001b[38;5;28mself\u001b[39m\u001b[38;5;241m.\u001b[39mindex)\n\u001b[0;32m   4914\u001b[0m \u001b[38;5;28;01mif\u001b[39;00m is_list_like(value):\n\u001b[1;32m-> 4915\u001b[0m     com\u001b[38;5;241m.\u001b[39mrequire_length_match(value, \u001b[38;5;28mself\u001b[39m\u001b[38;5;241m.\u001b[39mindex)\n\u001b[0;32m   4916\u001b[0m \u001b[38;5;28;01mreturn\u001b[39;00m sanitize_array(value, \u001b[38;5;28mself\u001b[39m\u001b[38;5;241m.\u001b[39mindex, copy\u001b[38;5;241m=\u001b[39m\u001b[38;5;28;01mTrue\u001b[39;00m, allow_2d\u001b[38;5;241m=\u001b[39m\u001b[38;5;28;01mTrue\u001b[39;00m)\n",
      "File \u001b[1;32mC:\\ProgramData\\anaconda3\\Lib\\site-packages\\pandas\\core\\common.py:571\u001b[0m, in \u001b[0;36mrequire_length_match\u001b[1;34m(data, index)\u001b[0m\n\u001b[0;32m    567\u001b[0m \u001b[38;5;250m\u001b[39m\u001b[38;5;124;03m\"\"\"\u001b[39;00m\n\u001b[0;32m    568\u001b[0m \u001b[38;5;124;03mCheck the length of data matches the length of the index.\u001b[39;00m\n\u001b[0;32m    569\u001b[0m \u001b[38;5;124;03m\"\"\"\u001b[39;00m\n\u001b[0;32m    570\u001b[0m \u001b[38;5;28;01mif\u001b[39;00m \u001b[38;5;28mlen\u001b[39m(data) \u001b[38;5;241m!=\u001b[39m \u001b[38;5;28mlen\u001b[39m(index):\n\u001b[1;32m--> 571\u001b[0m     \u001b[38;5;28;01mraise\u001b[39;00m \u001b[38;5;167;01mValueError\u001b[39;00m(\n\u001b[0;32m    572\u001b[0m         \u001b[38;5;124m\"\u001b[39m\u001b[38;5;124mLength of values \u001b[39m\u001b[38;5;124m\"\u001b[39m\n\u001b[0;32m    573\u001b[0m         \u001b[38;5;124mf\u001b[39m\u001b[38;5;124m\"\u001b[39m\u001b[38;5;124m(\u001b[39m\u001b[38;5;132;01m{\u001b[39;00m\u001b[38;5;28mlen\u001b[39m(data)\u001b[38;5;132;01m}\u001b[39;00m\u001b[38;5;124m) \u001b[39m\u001b[38;5;124m\"\u001b[39m\n\u001b[0;32m    574\u001b[0m         \u001b[38;5;124m\"\u001b[39m\u001b[38;5;124mdoes not match length of index \u001b[39m\u001b[38;5;124m\"\u001b[39m\n\u001b[0;32m    575\u001b[0m         \u001b[38;5;124mf\u001b[39m\u001b[38;5;124m\"\u001b[39m\u001b[38;5;124m(\u001b[39m\u001b[38;5;132;01m{\u001b[39;00m\u001b[38;5;28mlen\u001b[39m(index)\u001b[38;5;132;01m}\u001b[39;00m\u001b[38;5;124m)\u001b[39m\u001b[38;5;124m\"\u001b[39m\n\u001b[0;32m    576\u001b[0m     )\n",
      "\u001b[1;31mValueError\u001b[0m: Length of values (299) does not match length of index (2200)"
     ]
    }
   ],
   "source": [
    "dataset_3[\"moisture\"] = y_pred[:]\n",
    "dataset_3.head()"
   ]
  },
  {
   "cell_type": "markdown",
   "id": "a9457723",
   "metadata": {},
   "source": [
    "### PREPROCESSING : MERGE ALL DATASET\n",
    "- Merge and filter irrelevant values"
   ]
  },
  {
   "cell_type": "code",
   "execution_count": null,
   "id": "3c2165ef",
   "metadata": {},
   "outputs": [],
   "source": [
    "# merge\n",
    "merged_dataset[\"name\"] = merged_dataset[\"name\"].round().astype(int)\n",
    "merged_dataset = pd.merge(merged_dataset, dataset_3, how='outer')\n",
    "\n",
    "# filter \n",
    "merged_dataset = merged_dataset[(merged_dataset[\"name\"] >= 0) | (merged_dataset[\"moisture\"] >= 0)]\n",
    "print(merged_dataset.shape)"
   ]
  },
  {
   "cell_type": "markdown",
   "id": "30a2762a",
   "metadata": {},
   "source": [
    "### PREPROCESSING : FEATURE SCALING ON MERGED DATASET\n",
    "- Normalise all except \"name\""
   ]
  },
  {
   "cell_type": "code",
   "execution_count": null,
   "id": "b1dc6e59",
   "metadata": {},
   "outputs": [],
   "source": [
    "scaler = MinMaxScaler()\n",
    "\n",
    "unormalized_dataset = merged_dataset\n",
    "name_column = merged_dataset['name']\n",
    "\n",
    "\n",
    "original_columns = merged_dataset.columns.tolist()\n",
    "normalized_columns = list(filter(lambda x : x != \"name\", original_columns))\n",
    "\n",
    "merged_dataset_scaled = scaler.fit_transform(merged_dataset[normalized_columns])\n",
    "merged_dataset = pd.DataFrame(merged_dataset_scaled, columns=normalized_columns)\n",
    "\n",
    "merged_dataset[\"name\"] = name_column\n",
    "\n",
    "merged_dataset = merged_dataset.dropna(subset=['name'])\n",
    "      \n",
    "merged_dataset[\"name\"] = merged_dataset[\"name\"].round().astype(int)\n",
    "\n",
    "print(merged_dataset.info())\n",
    "# print(merged_dataset.isna().sum())\n",
    "# print(np.isinf(merged_dataset).sum())"
   ]
  },
  {
   "cell_type": "markdown",
   "id": "43df7531",
   "metadata": {},
   "source": [
    "### PREPROCESSING : DATA SEGMENTATION"
   ]
  },
  {
   "cell_type": "code",
   "execution_count": null,
   "id": "c4de46ee",
   "metadata": {},
   "outputs": [],
   "source": [
    "for key, value in name_int_mapping.items():\n",
    "    count = len(merged_dataset[merged_dataset[\"name\"] == value])\n",
    "    print(\"Found\", count, key + \"'s Fertilizers with type ID : \" + str(value))"
   ]
  },
  {
   "cell_type": "markdown",
   "id": "1d58c062",
   "metadata": {},
   "source": [
    "- Separate dataset according to its own type"
   ]
  },
  {
   "cell_type": "code",
   "execution_count": null,
   "id": "67d170ba",
   "metadata": {},
   "outputs": [],
   "source": [
    "def dataset_filter(type): # type : Integer\n",
    "    return merged_dataset[merged_dataset[\"name\"] == type]\n",
    "\n",
    "# access each fertilizer type through its original name not mapped ID\n",
    "fertilizer_dataset = {key : dataset_filter(value) for key, value in name_int_mapping.items()}"
   ]
  },
  {
   "cell_type": "markdown",
   "id": "932755bf",
   "metadata": {},
   "source": [
    "### MODELING : DBSCAN\n",
    "- Higher eps gives better silhouette score, but might impact the clustering result since it will be too broad."
   ]
  },
  {
   "cell_type": "code",
   "execution_count": null,
   "id": "ecffacc3",
   "metadata": {},
   "outputs": [],
   "source": [
    "from sklearn.cluster import DBSCAN\n",
    "\n",
    "silhouette_avgs = []\n",
    "\n",
    "def inverse_normalize(normalized_value, min_val, max_val):\n",
    "    denormalized_value = (normalized_value * (max_val - min_val)) + min_val\n",
    "    return denormalized_value\n",
    "\n",
    "def dbscan_analysis(data, key):\n",
    "    db = DBSCAN(eps=0.5, min_samples=data.shape[1]+1).fit(data)\n",
    "    labels = db.fit_predict(data)\n",
    "    \n",
    "    min_max_list = {}\n",
    "    \n",
    "    for feature in unormalized_dataset.columns:\n",
    "        values = unormalized_dataset[feature].values \n",
    "        max_val = np.max(values, axis=0)\n",
    "        min_val = np.min(values, axis=0)\n",
    "        min_max_list[feature] = {\"max\" : max_val, \"min\" : min_val}\n",
    "        \n",
    "\n",
    "    pca = PCA(n_components=2)\n",
    "    X_pca = pca.fit_transform(data)\n",
    "    plt.scatter(X_pca[:, 0], X_pca[:, 1], c=labels, s=8, cmap='viridis')\n",
    "    plt.title('DBSCAN (2D PCA Projection) : %s' % key)\n",
    "    plt.show()    \n",
    "    \n",
    "    cluster_details = pd.DataFrame({'Label': labels, 'DataPoint': range(len(labels))})\n",
    "    cluster_counts = cluster_details.groupby('Label').count()\n",
    "    \n",
    "    cluster_data_points = {label: data[labels == label] for label in np.unique(labels)}\n",
    "    \n",
    "    for label, points in cluster_data_points.items():\n",
    "        print(f\"Label {label}: {len(points)} data points\")\n",
    "        avg_values = np.mean(points, axis=0)\n",
    "        print(f\"Averages for Label {label} (Normalized Value):\\n\", avg_values, \"\\n\")\n",
    "        print(f\"Averages for Label {label} (Original Value):\")\n",
    "        for feature, avg_value in enumerate(avg_values):\n",
    "            print(data.columns[feature], str(inverse_normalize(avg_value, min_max_list[data.columns[feature]][\"min\"], min_max_list[data.columns[feature]][\"max\"])))        \n",
    "        print(\"============================\")\n",
    "        \n",
    "    \n",
    "    unique_labels = np.unique(labels)\n",
    "    if len(unique_labels) > 1:\n",
    "        silhouette_avg = silhouette_score(data, labels)\n",
    "        silhouette_avgs.append(silhouette_avg)\n",
    "        print(\"Silhouette Score:\", silhouette_avg)\n",
    "    else:\n",
    "        print(\"Only one cluster. Silhouette score cannot be computed.\")\n",
    "\n",
    "    # positive integer = cluster member, negative = outlier / noise"
   ]
  },
  {
   "cell_type": "code",
   "execution_count": null,
   "id": "0f6c3bed",
   "metadata": {},
   "outputs": [],
   "source": [
    "for key, value in fertilizer_dataset.items():\n",
    "    dbscan_analysis(data=value, key=key)    "
   ]
  },
  {
   "cell_type": "markdown",
   "id": "b5aae9c9",
   "metadata": {},
   "source": [
    "### MODELING : PERFORMANCE TEST\n",
    "\n",
    "- Using Silhouette Score \n",
    "<ul>\n",
    "    <li>1 means good separation between clusters</li>\n",
    "    <li>0 means possibility of overlapping cluster</li>\n",
    "    <li>-1 means poor cluster separation</li>\n",
    "</ul>"
   ]
  },
  {
   "cell_type": "code",
   "execution_count": null,
   "id": "469141cd",
   "metadata": {},
   "outputs": [],
   "source": [
    "print(\"Silhouette Score Average : \", np.mean(silhouette_avgs))"
   ]
  },
  {
   "cell_type": "markdown",
   "id": "fc9c926a",
   "metadata": {},
   "source": [
    "### CONCLUSION\n",
    "1. Hasil prediksi pada feature pada tahap preprocessing menghasilkan data-data yang dapat dibagi sesuai tiap pupuk, dan hasil model pelatihannya bersifat dominan pada beberapa jenis pupuk saja.\n",
    "2. Jarang ditemukan noise yang ditemukan pada hasil clustering pada masing-masing tipe pupuk, namun pada dataset yang jumlahnya cukup besar terkadang muncul dua cluster non-outlier. Apabila dianalisis rata-rata value feature pada cluster tersebut, maka terdapat perbedaan komposisi yang cukup drastis. Hal ini dapat dijadikan referensi sebagai penanda adanya anomali pada satu cluster atau cluster yang lainnya, karena seharusnya masing-masing tipe pupuk memiliki konsistensi untuk komposisi dan karakteristiknya."
   ]
  }
 ],
 "metadata": {
  "kernelspec": {
   "display_name": "Python 3 (ipykernel)",
   "language": "python",
   "name": "python3"
  },
  "language_info": {
   "codemirror_mode": {
    "name": "ipython",
    "version": 3
   },
   "file_extension": ".py",
   "mimetype": "text/x-python",
   "name": "python",
   "nbconvert_exporter": "python",
   "pygments_lexer": "ipython3",
   "version": "3.11.4"
  }
 },
 "nbformat": 4,
 "nbformat_minor": 5
}
